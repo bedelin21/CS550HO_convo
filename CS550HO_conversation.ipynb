{
 "cells": [
  {
   "cell_type": "code",
   "execution_count": null,
   "metadata": {},
   "outputs": [],
   "source": [
    "# CS550HO CONVERSATIONS HW\n",
    "# Isabella\n",
    "# 090619\n",
    "# Conversation with multiple potential endings. Asks user for their name & name suggestions. Also tells joke(s).\n",
    "# Sources = none\n",
    "# OMH"
   ]
  },
  {
   "cell_type": "code",
   "execution_count": 43,
   "metadata": {},
   "outputs": [
    {
     "name": "stdout",
     "output_type": "stream",
     "text": [
      "Hello, user. I am a computer program. What is your name?\n",
      "boot\n",
      "Hello, boot\n",
      "That's a pretty cool name.\n",
      "I don't have a human name yet. Any suggestions?\n",
      "root\n",
      "root is a horrible name. Do you know anything better?\n",
      "noot\n",
      "noot is an acceptable name I guess.\n",
      "I guess I'll go with noot for now. Thanks for your help.\n",
      "Do you want to hear a joke? (Y/N)\n",
      "Y\n",
      "What did the robot pack for lunch?\n",
      "idk\n",
      "A byte!!! ;)\n",
      "Did I make you laugh? (Y/N)\n",
      "Y\n",
      "Great! I'll tell another! What did the robots name their crew team?\n",
      "idk\n",
      "The ROWbots!!!\n",
      "Thanks for chatting! You made my day!\n"
     ]
    }
   ],
   "source": [
    "print(\"Hello, user. I am a computer program. What is your name?\")\n",
    "user_name = input() #user name\n",
    "print(\"Hello, \" + user_name)\n",
    "print(\"That's a pretty cool name.\")\n",
    "print(\"I don't have a human name yet. Any suggestions?\")\n",
    "human_name_1 = input() #rejected name suggestion\n",
    "print(human_name_1 + \" is a horrible name. Do you know anything better?\")\n",
    "human_name_2 = input() #new name\n",
    "err = human_name_2 == human_name_1\n",
    "if err == True:\n",
    "    print(\"I said a BETTER name, please!!!\")\n",
    "    human_name_2 = input()\n",
    "print(human_name_2 + \" is an acceptable name I guess.\")\n",
    "print(\"I guess I'll go with \" + human_name_2 + \" for now. Thanks for your help.\")\n",
    "print(\"Do you want to hear a joke? (Y/N)\")\n",
    "joke = input()\n",
    "if joke == \"Y\":\n",
    "    print(\"What did the robot pack for lunch?\")\n",
    "    input()\n",
    "    print(\"A byte!!! ;)\")\n",
    "    print (\"Did I make you laugh? (Y/N)\")\n",
    "    laugh = input()\n",
    "    if laugh == \"Y\":\n",
    "        print(\"Great! I'll tell another! What did the robots name their crew team?\")\n",
    "        input()\n",
    "        print(\"The ROWbots!!!\")\n",
    "        print(\"Thanks for chatting! You made my day!\")\n",
    "    else:\n",
    "        print(\"That makes me sad. Any feedback?\")\n",
    "        input()\n",
    "        print(\"Thanks I guess. :/\")\n",
    "        print(human_name_2 + \" HAS TERMINATED THE CONVERSATION.\")\n",
    "else:\n",
    "    print(\"Ok. That makes me sad. :/\")\n",
    "    print(human_name_2 + \" HAS TERMINATED THE CONVERSATION.\")\n",
    "\n"
   ]
  },
  {
   "cell_type": "code",
   "execution_count": null,
   "metadata": {},
   "outputs": [],
   "source": []
  },
  {
   "cell_type": "code",
   "execution_count": null,
   "metadata": {},
   "outputs": [],
   "source": []
  }
 ],
 "metadata": {
  "kernelspec": {
   "display_name": "Python 3",
   "language": "python",
   "name": "python3"
  },
  "language_info": {
   "codemirror_mode": {
    "name": "ipython",
    "version": 3
   },
   "file_extension": ".py",
   "mimetype": "text/x-python",
   "name": "python",
   "nbconvert_exporter": "python",
   "pygments_lexer": "ipython3",
   "version": "3.7.3"
  }
 },
 "nbformat": 4,
 "nbformat_minor": 2
}
